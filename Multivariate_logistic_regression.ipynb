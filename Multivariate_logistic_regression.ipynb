{
 "cells": [
  {
   "cell_type": "code",
   "execution_count": 1,
   "metadata": {
    "colab": {
     "base_uri": "https://localhost:8080/"
    },
    "executionInfo": {
     "elapsed": 355,
     "status": "ok",
     "timestamp": 1741333027681,
     "user": {
      "displayName": "Simon",
      "userId": "14960693988214049464"
     },
     "user_tz": 480
    },
    "id": "I5JGcLpYYUQg",
    "outputId": "38eff0fa-166a-4161-c110-7b9d87b4eecc"
   },
   "outputs": [
    {
     "name": "stdout",
     "output_type": "stream",
     "text": [
      "   is_sustaining  total_forks_count  avg_annual_forks_growth_rate  \\\n",
      "0              1          10.159253                     -0.096791   \n",
      "1              1          10.049404                      0.018223   \n",
      "2              1           9.811263                     -0.046718   \n",
      "3              1           9.567105                      0.294218   \n",
      "4              1           9.533438                      2.041317   \n",
      "\n",
      "   contributed_back_forks_count  hard_forks_count  merged_commits_count  \\\n",
      "0                      7.523481          6.100319             10.032540   \n",
      "1                      6.570883          5.416100              8.604288   \n",
      "2                      5.541264          4.418841              8.437500   \n",
      "3                      7.939515          5.937536             10.086351   \n",
      "4                      7.025538          6.169611              9.489335   \n",
      "\n",
      "   not_merged_commits_count  not_contributed_back_commits_count  \\\n",
      "0                  9.265397                            9.115480   \n",
      "1                  7.442493                            8.458716   \n",
      "2                  5.480639                            6.617403   \n",
      "3                  8.858937                            8.492900   \n",
      "4                  8.687442                            9.207737   \n",
      "\n",
      "   avg_annual_merged_commits_growth_rate  \\\n",
      "0                               0.130966   \n",
      "1                               1.069831   \n",
      "2                               0.031681   \n",
      "3                               0.212774   \n",
      "4                               0.238858   \n",
      "\n",
      "   avg_annual_not_merged_commits_growth_rate  \\\n",
      "0                                  -0.121190   \n",
      "1                                   0.278443   \n",
      "2                                   0.382755   \n",
      "3                                   0.565909   \n",
      "4                                   3.287446   \n",
      "\n",
      "   avg_annual_not_contributed_back_commits_growth_rate  \n",
      "0                                          -0.029914    \n",
      "1                                           0.043511    \n",
      "2                                           0.126965    \n",
      "3                                           0.570720    \n",
      "4                                           1.086823    \n"
     ]
    }
   ],
   "source": [
    "import pandas as pd\n",
    "\n",
    "df_logged_CDA = pd.read_csv('data/df_logged_CDA.csv')\n",
    "print(df_logged_CDA.head())"
   ]
  },
  {
   "cell_type": "code",
   "execution_count": 2,
   "metadata": {},
   "outputs": [
    {
     "name": "stdout",
     "output_type": "stream",
     "text": [
      "is_sustaining\n",
      "1    174\n",
      "0    106\n",
      "Name: count, dtype: int64\n"
     ]
    }
   ],
   "source": [
    "print(df_logged_CDA['is_sustaining'].value_counts())"
   ]
  },
  {
   "cell_type": "code",
   "execution_count": 3,
   "metadata": {
    "executionInfo": {
     "elapsed": 432,
     "status": "ok",
     "timestamp": 1741333032170,
     "user": {
      "displayName": "Simon",
      "userId": "14960693988214049464"
     },
     "user_tz": 480
    },
    "id": "sS7gR_VIYf5p"
   },
   "outputs": [],
   "source": [
    "from sklearn.model_selection import train_test_split\n",
    "from sklearn.linear_model import LinearRegression\n",
    "from sklearn.metrics import mean_squared_error, r2_score\n",
    "from sklearn.metrics import accuracy_score, classification_report\n",
    "import statsmodels.api as sm"
   ]
  },
  {
   "cell_type": "code",
   "execution_count": 4,
   "metadata": {
    "executionInfo": {
     "elapsed": 18,
     "status": "ok",
     "timestamp": 1741333040708,
     "user": {
      "displayName": "Simon",
      "userId": "14960693988214049464"
     },
     "user_tz": 480
    },
    "id": "wfSO9o6iiLez"
   },
   "outputs": [
    {
     "data": {
      "text/plain": [
       "is_sustaining\n",
       "1    38\n",
       "0    18\n",
       "Name: count, dtype: int64"
      ]
     },
     "execution_count": 4,
     "metadata": {},
     "output_type": "execute_result"
    }
   ],
   "source": [
    "#train-test split\n",
    "X = df_logged_CDA.drop(columns=[\"is_sustaining\"])\n",
    "y = df_logged_CDA[\"is_sustaining\"]\n",
    "\n",
    "X_train, X_test, y_train, y_test = train_test_split(X, y, test_size=0.2, random_state=42)\n",
    "\n",
    "y_test.value_counts()"
   ]
  },
  {
   "cell_type": "code",
   "execution_count": 5,
   "metadata": {},
   "outputs": [
    {
     "name": "stdout",
     "output_type": "stream",
     "text": [
      "Accuracy: 0.8571\n"
     ]
    }
   ],
   "source": [
    "from sklearn.linear_model import LogisticRegression\n",
    "\n",
    "model = LogisticRegression()\n",
    "model.fit(X_train, y_train)\n",
    "\n",
    "y_pred = model.predict(X_test)\n",
    "\n",
    "accuracy = accuracy_score(y_test, y_pred)\n",
    "class_report = classification_report(y_test, y_pred)\n",
    "\n",
    "print(f\"Accuracy: {accuracy:.4f}\")"
   ]
  },
  {
   "cell_type": "code",
   "execution_count": 6,
   "metadata": {},
   "outputs": [
    {
     "name": "stdout",
     "output_type": "stream",
     "text": [
      "Optimization terminated successfully.\n",
      "         Current function value: 0.337945\n",
      "         Iterations 8\n",
      "                           Logit Regression Results                           \n",
      "==============================================================================\n",
      "Dep. Variable:          is_sustaining   No. Observations:                  224\n",
      "Model:                          Logit   Df Residuals:                      213\n",
      "Method:                           MLE   Df Model:                           10\n",
      "Date:                Sat, 15 Mar 2025   Pseudo R-squ.:                  0.4956\n",
      "Time:                        11:38:11   Log-Likelihood:                -75.700\n",
      "converged:                       True   LL-Null:                       -150.08\n",
      "Covariance Type:            nonrobust   LLR p-value:                 6.691e-27\n",
      "=======================================================================================================================\n",
      "                                                          coef    std err          z      P>|z|      [0.025      0.975]\n",
      "-----------------------------------------------------------------------------------------------------------------------\n",
      "const                                                  -4.1298      1.260     -3.277      0.001      -6.600      -1.660\n",
      "total_forks_count                                       0.9127      0.390      2.339      0.019       0.148       1.677\n",
      "avg_annual_forks_growth_rate                            4.4236      0.966      4.581      0.000       2.531       6.316\n",
      "contributed_back_forks_count                            0.0460      0.499      0.092      0.927      -0.931       1.024\n",
      "hard_forks_count                                        0.0487      0.424      0.115      0.908      -0.781       0.879\n",
      "merged_commits_count                                    0.1187      0.166      0.714      0.475      -0.207       0.445\n",
      "not_merged_commits_count                               -0.2001      0.174     -1.150      0.250      -0.541       0.141\n",
      "not_contributed_back_commits_count                     -0.0928      0.159     -0.583      0.560      -0.405       0.219\n",
      "avg_annual_merged_commits_growth_rate                   1.4822      0.512      2.896      0.004       0.479       2.485\n",
      "avg_annual_not_merged_commits_growth_rate               0.6044      0.566      1.067      0.286      -0.505       1.714\n",
      "avg_annual_not_contributed_back_commits_growth_rate     0.2766      0.309      0.894      0.371      -0.330       0.883\n",
      "=======================================================================================================================\n"
     ]
    }
   ],
   "source": [
    "X_train_const = sm.add_constant(X_train)  \n",
    "\n",
    "model_sm = sm.Logit(y_train, X_train_const).fit()\n",
    "\n",
    "print(model_sm.summary())"
   ]
  },
  {
   "cell_type": "code",
   "execution_count": 7,
   "metadata": {},
   "outputs": [
    {
     "name": "stdout",
     "output_type": "stream",
     "text": [
      "Random Baseline Accuracy: 0.6071\n"
     ]
    }
   ],
   "source": [
    "#Compore it to a random baseline model\n",
    "import numpy as np\n",
    "\n",
    "np.random.seed(42)\n",
    "\n",
    "random_preds = np.random.choice([0, 1], size=56, p=[0.5, 0.5])\n",
    "\n",
    "random_accuracy = accuracy_score(y_test, random_preds)\n",
    "print(f\"Random Baseline Accuracy: {random_accuracy:.4f}\")"
   ]
  },
  {
   "cell_type": "code",
   "execution_count": null,
   "metadata": {
    "id": "gB-dLQoBgU16"
   },
   "outputs": [],
   "source": []
  }
 ],
 "metadata": {
  "colab": {
   "authorship_tag": "ABX9TyM51w9ZkyEaXNEK2KaI6cxv",
   "provenance": []
  },
  "kernelspec": {
   "display_name": "Python 3 (ipykernel)",
   "language": "python",
   "name": "python3"
  },
  "language_info": {
   "codemirror_mode": {
    "name": "ipython",
    "version": 3
   },
   "file_extension": ".py",
   "mimetype": "text/x-python",
   "name": "python",
   "nbconvert_exporter": "python",
   "pygments_lexer": "ipython3",
   "version": "3.12.4"
  }
 },
 "nbformat": 4,
 "nbformat_minor": 4
}
