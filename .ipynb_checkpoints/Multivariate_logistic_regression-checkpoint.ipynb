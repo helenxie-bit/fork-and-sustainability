{
 "cells": [
  {
   "cell_type": "code",
   "execution_count": 1,
   "metadata": {
    "colab": {
     "base_uri": "https://localhost:8080/"
    },
    "executionInfo": {
     "elapsed": 355,
     "status": "ok",
     "timestamp": 1741333027681,
     "user": {
      "displayName": "Simon",
      "userId": "14960693988214049464"
     },
     "user_tz": 480
    },
    "id": "I5JGcLpYYUQg",
    "outputId": "38eff0fa-166a-4161-c110-7b9d87b4eecc"
   },
   "outputs": [
    {
     "name": "stdout",
     "output_type": "stream",
     "text": [
      "   is_sustaining  total_forks_count  avg_annual_forks_growth_rate  \\\n",
      "0              1          10.159253                     -0.096791   \n",
      "1              1          10.049404                      0.018223   \n",
      "2              1           9.811263                     -0.046718   \n",
      "3              1           9.567105                      0.294218   \n",
      "4              1           9.533438                      2.041317   \n",
      "\n",
      "   contributed_back_forks_ratio  hard_forks_ratio  avg_merged_commits_count  \\\n",
      "0                      0.069179          0.017083                  2.587723   \n",
      "1                      0.030346          0.009633                  2.157486   \n",
      "2                      0.013832          0.004486                  2.953515   \n",
      "3                      0.179272          0.026115                  2.257632   \n",
      "4                      0.078231          0.033950                  2.546229   \n",
      "\n",
      "   avg_not_merged_commits_count  avg_not_contributed_back_commits_count  \\\n",
      "0                      1.903720                                3.065070   \n",
      "1                      1.221628                                3.093272   \n",
      "2                      0.663175                                2.313501   \n",
      "3                      1.255154                                2.632422   \n",
      "4                      1.836276                                3.086841   \n",
      "\n",
      "   avg_annual_merged_commits_growth_rate  \\\n",
      "0                               0.130966   \n",
      "1                               1.069831   \n",
      "2                               0.031681   \n",
      "3                               0.212774   \n",
      "4                               0.238858   \n",
      "\n",
      "   avg_annual_not_merged_commits_growth_rate  \\\n",
      "0                                  -0.121190   \n",
      "1                                   0.278443   \n",
      "2                                   0.382755   \n",
      "3                                   0.565909   \n",
      "4                                   3.287446   \n",
      "\n",
      "   avg_annual_not_contributed_back_commits_growth_rate  \n",
      "0                                          -0.029914    \n",
      "1                                           0.043511    \n",
      "2                                           0.126965    \n",
      "3                                           0.570720    \n",
      "4                                           1.086823    \n"
     ]
    }
   ],
   "source": [
    "import pandas as pd\n",
    "\n",
    "df_logged_CDA = pd.read_csv('data/df_logged_CDA.csv')\n",
    "print(df_logged_CDA.head())"
   ]
  },
  {
   "cell_type": "code",
   "execution_count": 3,
   "metadata": {},
   "outputs": [
    {
     "name": "stdout",
     "output_type": "stream",
     "text": [
      "is_sustaining\n",
      "1    174\n",
      "0    106\n",
      "Name: count, dtype: int64\n"
     ]
    }
   ],
   "source": [
    "print(df_logged_CDA['is_sustaining'].value_counts())"
   ]
  },
  {
   "cell_type": "code",
   "execution_count": 5,
   "metadata": {
    "executionInfo": {
     "elapsed": 432,
     "status": "ok",
     "timestamp": 1741333032170,
     "user": {
      "displayName": "Simon",
      "userId": "14960693988214049464"
     },
     "user_tz": 480
    },
    "id": "sS7gR_VIYf5p"
   },
   "outputs": [],
   "source": [
    "from sklearn.model_selection import train_test_split\n",
    "from sklearn.linear_model import LinearRegression\n",
    "from sklearn.metrics import mean_squared_error, r2_score\n",
    "from sklearn.metrics import accuracy_score, classification_report\n",
    "import statsmodels.api as sm"
   ]
  },
  {
   "cell_type": "code",
   "execution_count": 7,
   "metadata": {
    "executionInfo": {
     "elapsed": 18,
     "status": "ok",
     "timestamp": 1741333040708,
     "user": {
      "displayName": "Simon",
      "userId": "14960693988214049464"
     },
     "user_tz": 480
    },
    "id": "wfSO9o6iiLez"
   },
   "outputs": [
    {
     "data": {
      "text/plain": [
       "is_sustaining\n",
       "1    38\n",
       "0    18\n",
       "Name: count, dtype: int64"
      ]
     },
     "execution_count": 7,
     "metadata": {},
     "output_type": "execute_result"
    }
   ],
   "source": [
    "#train-test split\n",
    "X = df_logged_CDA.drop(columns=[\"is_sustaining\"])\n",
    "y = df_logged_CDA[\"is_sustaining\"]\n",
    "\n",
    "X_train, X_test, y_train, y_test = train_test_split(X, y, test_size=0.2, random_state=42)\n",
    "\n",
    "y_test.value_counts()"
   ]
  },
  {
   "cell_type": "code",
   "execution_count": 9,
   "metadata": {},
   "outputs": [
    {
     "name": "stdout",
     "output_type": "stream",
     "text": [
      "Accuracy: 0.8571\n"
     ]
    }
   ],
   "source": [
    "from sklearn.linear_model import LogisticRegression\n",
    "\n",
    "model = LogisticRegression()\n",
    "model.fit(X_train, y_train)\n",
    "\n",
    "y_pred = model.predict(X_test)\n",
    "\n",
    "accuracy = accuracy_score(y_test, y_pred)\n",
    "class_report = classification_report(y_test, y_pred)\n",
    "\n",
    "print(f\"Accuracy: {accuracy:.4f}\")"
   ]
  },
  {
   "cell_type": "code",
   "execution_count": 11,
   "metadata": {},
   "outputs": [
    {
     "name": "stdout",
     "output_type": "stream",
     "text": [
      "Optimization terminated successfully.\n",
      "         Current function value: 0.328011\n",
      "         Iterations 8\n",
      "                           Logit Regression Results                           \n",
      "==============================================================================\n",
      "Dep. Variable:          is_sustaining   No. Observations:                  224\n",
      "Model:                          Logit   Df Residuals:                      213\n",
      "Method:                           MLE   Df Model:                           10\n",
      "Date:                Mon, 17 Mar 2025   Pseudo R-squ.:                  0.5104\n",
      "Time:                        19:19:27   Log-Likelihood:                -73.474\n",
      "converged:                       True   LL-Null:                       -150.08\n",
      "Covariance Type:            nonrobust   LLR p-value:                 8.120e-28\n",
      "=======================================================================================================================\n",
      "                                                          coef    std err          z      P>|z|      [0.025      0.975]\n",
      "-----------------------------------------------------------------------------------------------------------------------\n",
      "const                                                  -4.5527      0.961     -4.738      0.000      -6.436      -2.670\n",
      "total_forks_count                                       0.9966      0.209      4.757      0.000       0.586       1.407\n",
      "avg_annual_forks_growth_rate                            4.6046      0.980      4.697      0.000       2.683       6.526\n",
      "contributed_back_forks_ratio                            3.3699      2.596      1.298      0.194      -1.717       8.457\n",
      "hard_forks_ratio                                       -0.6008      9.621     -0.062      0.950     -19.459      18.257\n",
      "avg_merged_commits_count                                0.0721      0.173      0.416      0.677      -0.267       0.412\n",
      "avg_not_merged_commits_count                           -0.2356      0.281     -0.839      0.401      -0.786       0.315\n",
      "avg_not_contributed_back_commits_count                 -0.2671      0.165     -1.622      0.105      -0.590       0.056\n",
      "avg_annual_merged_commits_growth_rate                   1.2921      0.502      2.575      0.010       0.308       2.276\n",
      "avg_annual_not_merged_commits_growth_rate               0.6554      0.587      1.116      0.264      -0.496       1.806\n",
      "avg_annual_not_contributed_back_commits_growth_rate     0.3500      0.320      1.093      0.274      -0.278       0.978\n",
      "=======================================================================================================================\n"
     ]
    }
   ],
   "source": [
    "X_train_const = sm.add_constant(X_train)  \n",
    "\n",
    "model_sm = sm.Logit(y_train, X_train_const).fit()\n",
    "\n",
    "print(model_sm.summary())"
   ]
  },
  {
   "cell_type": "code",
   "execution_count": 13,
   "metadata": {},
   "outputs": [
    {
     "name": "stdout",
     "output_type": "stream",
     "text": [
      "Random Baseline Accuracy: 0.6071\n"
     ]
    }
   ],
   "source": [
    "#Compore it to a random baseline model\n",
    "import numpy as np\n",
    "\n",
    "np.random.seed(42)\n",
    "\n",
    "random_preds = np.random.choice([0, 1], size=56, p=[0.5, 0.5])\n",
    "\n",
    "random_accuracy = accuracy_score(y_test, random_preds)\n",
    "print(f\"Random Baseline Accuracy: {random_accuracy:.4f}\")"
   ]
  },
  {
   "cell_type": "code",
   "execution_count": null,
   "metadata": {
    "id": "gB-dLQoBgU16"
   },
   "outputs": [],
   "source": []
  }
 ],
 "metadata": {
  "colab": {
   "authorship_tag": "ABX9TyM51w9ZkyEaXNEK2KaI6cxv",
   "provenance": []
  },
  "kernelspec": {
   "display_name": "Python 3 (ipykernel)",
   "language": "python",
   "name": "python3"
  },
  "language_info": {
   "codemirror_mode": {
    "name": "ipython",
    "version": 3
   },
   "file_extension": ".py",
   "mimetype": "text/x-python",
   "name": "python",
   "nbconvert_exporter": "python",
   "pygments_lexer": "ipython3",
   "version": "3.12.4"
  }
 },
 "nbformat": 4,
 "nbformat_minor": 4
}
