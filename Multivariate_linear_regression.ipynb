{
 "cells": [
  {
   "cell_type": "code",
   "execution_count": 1,
   "metadata": {
    "colab": {
     "base_uri": "https://localhost:8080/"
    },
    "executionInfo": {
     "elapsed": 355,
     "status": "ok",
     "timestamp": 1741333027681,
     "user": {
      "displayName": "Simon",
      "userId": "14960693988214049464"
     },
     "user_tz": 480
    },
    "id": "I5JGcLpYYUQg",
    "outputId": "38eff0fa-166a-4161-c110-7b9d87b4eecc"
   },
   "outputs": [
    {
     "name": "stdout",
     "output_type": "stream",
     "text": [
      "   is_sustaining  total_forks_count  contributed_back_forks_count  \\\n",
      "0              1          10.159253                     11.319972   \n",
      "1              1          10.049404                      9.821084   \n",
      "2              1           9.811263                      9.019785   \n",
      "3              1           9.567105                     10.596385   \n",
      "4              1           9.533438                     10.417089   \n",
      "\n",
      "   hard_forks_count  merged_commits_count  not_merged_commits_count  \\\n",
      "0         10.641417             10.121377                 10.896276   \n",
      "1          8.933400              9.194516                  8.981807   \n",
      "2          8.151910              8.971829                  5.673323   \n",
      "3          9.851510             10.106632                  9.537195   \n",
      "4         10.108263              9.604070                  9.687816   \n",
      "\n",
      "   not_contributed_back_commits_count  \n",
      "0                            9.115480  \n",
      "1                            8.458716  \n",
      "2                            6.617403  \n",
      "3                            8.492900  \n",
      "4                            9.207737  \n"
     ]
    }
   ],
   "source": [
    "import pandas as pd\n",
    "\n",
    "df_logged_CDA = pd.read_csv('data/df_logged_CDA.csv')\n",
    "print(df_logged_CDA.head())"
   ]
  },
  {
   "cell_type": "code",
   "execution_count": 3,
   "metadata": {},
   "outputs": [
    {
     "name": "stdout",
     "output_type": "stream",
     "text": [
      "is_sustaining\n",
      "1    174\n",
      "0    106\n",
      "Name: count, dtype: int64\n"
     ]
    }
   ],
   "source": [
    "print(df_logged_CDA['is_sustaining'].value_counts())"
   ]
  },
  {
   "cell_type": "code",
   "execution_count": 5,
   "metadata": {
    "executionInfo": {
     "elapsed": 432,
     "status": "ok",
     "timestamp": 1741333032170,
     "user": {
      "displayName": "Simon",
      "userId": "14960693988214049464"
     },
     "user_tz": 480
    },
    "id": "sS7gR_VIYf5p"
   },
   "outputs": [],
   "source": [
    "from sklearn.model_selection import train_test_split\n",
    "from sklearn.linear_model import LinearRegression\n",
    "from sklearn.metrics import mean_squared_error, r2_score\n",
    "from sklearn.metrics import accuracy_score"
   ]
  },
  {
   "cell_type": "code",
   "execution_count": 7,
   "metadata": {
    "executionInfo": {
     "elapsed": 18,
     "status": "ok",
     "timestamp": 1741333040708,
     "user": {
      "displayName": "Simon",
      "userId": "14960693988214049464"
     },
     "user_tz": 480
    },
    "id": "wfSO9o6iiLez"
   },
   "outputs": [
    {
     "data": {
      "text/plain": [
       "is_sustaining\n",
       "1    38\n",
       "0    18\n",
       "Name: count, dtype: int64"
      ]
     },
     "execution_count": 7,
     "metadata": {},
     "output_type": "execute_result"
    }
   ],
   "source": [
    "#train-test split\n",
    "X = df_logged_CDA.drop(columns=[\"is_sustaining\"])\n",
    "y = df_logged_CDA[\"is_sustaining\"]\n",
    "\n",
    "X_train, X_test, y_train, y_test = train_test_split(X, y, test_size=0.2, random_state=42)\n",
    "\n",
    "y_test.value_counts()"
   ]
  },
  {
   "cell_type": "code",
   "execution_count": 23,
   "metadata": {
    "colab": {
     "base_uri": "https://localhost:8080/"
    },
    "executionInfo": {
     "elapsed": 13,
     "status": "ok",
     "timestamp": 1741332937688,
     "user": {
      "displayName": "Simon",
      "userId": "14960693988214049464"
     },
     "user_tz": 480
    },
    "id": "wdwXdA3SYkYS",
    "outputId": "8ca47c1b-1374-490e-8ccd-cadd0b1a7d4b"
   },
   "outputs": [
    {
     "name": "stdout",
     "output_type": "stream",
     "text": [
      "Mean Squared Error (MSE): 0.1530339257469598\n",
      "R-squared (R²): 0.29837077318352945\n",
      "\n",
      "Feature Coefficients:\n",
      "total_forks_count: 0.11444071841901443\n",
      "contributed_back_forks_count: 0.09012512964668612\n",
      "hard_forks_count: 0.016841164969210343\n",
      "merged_commits_count: -0.04115470344940904\n",
      "not_merged_commits_count: -0.02633437447672124\n",
      "not_contributed_back_commits_count: -0.023916125550615213\n",
      "Accuracy (after converting to binary): 0.7679\n"
     ]
    }
   ],
   "source": [
    "#Multi-variate linear regression\n",
    "model = LinearRegression()\n",
    "model.fit(X_train, y_train)\n",
    "\n",
    "y_pred = model.predict(X_test)\n",
    "\n",
    "mse = mean_squared_error(y_test, y_pred)\n",
    "r2 = r2_score(y_test, y_pred)\n",
    "\n",
    "print(f\"Mean Squared Error (MSE): {mse}\")\n",
    "print(f\"R-squared (R²): {r2}\")\n",
    "\n",
    "print(\"\\nFeature Coefficients:\")\n",
    "for feature, coef in zip(X.columns, model.coef_):\n",
    "    print(f\"{feature}: {coef}\")\n",
    "\n",
    "y_pred_binary = [1 if pred >= 0.5 else 0 for pred in y_pred]\n",
    "\n",
    "accuracy = accuracy_score(y_test, y_pred_binary)\n",
    "\n",
    "print(f\"Accuracy (after converting to binary): {accuracy:.4f}\")"
   ]
  },
  {
   "cell_type": "code",
   "execution_count": 25,
   "metadata": {
    "colab": {
     "base_uri": "https://localhost:8080/"
    },
    "executionInfo": {
     "elapsed": 319,
     "status": "ok",
     "timestamp": 1741333140568,
     "user": {
      "displayName": "Simon",
      "userId": "14960693988214049464"
     },
     "user_tz": 480
    },
    "id": "YmCGex64Ztbl",
    "outputId": "5e4ca7b5-b539-4dbe-98ba-127914168e9c"
   },
   "outputs": [
    {
     "name": "stdout",
     "output_type": "stream",
     "text": [
      "                            OLS Regression Results                            \n",
      "==============================================================================\n",
      "Dep. Variable:          is_sustaining   R-squared:                       0.346\n",
      "Model:                            OLS   Adj. R-squared:                  0.332\n",
      "Method:                 Least Squares   F-statistic:                     24.11\n",
      "Date:                Thu, 13 Mar 2025   Prob (F-statistic):           7.32e-23\n",
      "Time:                        23:27:58   Log-Likelihood:                -135.19\n",
      "No. Observations:                 280   AIC:                             284.4\n",
      "Df Residuals:                     273   BIC:                             309.8\n",
      "Df Model:                           6                                         \n",
      "Covariance Type:            nonrobust                                         \n",
      "======================================================================================================\n",
      "                                         coef    std err          t      P>|t|      [0.025      0.975]\n",
      "------------------------------------------------------------------------------------------------------\n",
      "const                                 -0.1210      0.091     -1.327      0.186      -0.301       0.059\n",
      "total_forks_count                      0.1008      0.030      3.358      0.001       0.042       0.160\n",
      "contributed_back_forks_count           0.0769      0.056      1.364      0.174      -0.034       0.188\n",
      "hard_forks_count                       0.0181      0.014      1.313      0.190      -0.009       0.045\n",
      "merged_commits_count                  -0.0315      0.052     -0.604      0.546      -0.134       0.071\n",
      "not_merged_commits_count              -0.0226      0.019     -1.209      0.228      -0.059       0.014\n",
      "not_contributed_back_commits_count    -0.0144      0.018     -0.798      0.426      -0.050       0.021\n",
      "==============================================================================\n",
      "Omnibus:                        8.410   Durbin-Watson:                   2.005\n",
      "Prob(Omnibus):                  0.015   Jarque-Bera (JB):                6.810\n",
      "Skew:                          -0.290   Prob(JB):                       0.0332\n",
      "Kurtosis:                       2.502   Cond. No.                         58.1\n",
      "==============================================================================\n",
      "\n",
      "Notes:\n",
      "[1] Standard Errors assume that the covariance matrix of the errors is correctly specified.\n"
     ]
    }
   ],
   "source": [
    "import statsmodels.api as sm\n",
    "\n",
    "X = sm.add_constant(X)\n",
    "\n",
    "model = sm.OLS(y, X).fit()\n",
    "\n",
    "print(model.summary())"
   ]
  },
  {
   "cell_type": "code",
   "execution_count": 35,
   "metadata": {},
   "outputs": [
    {
     "name": "stdout",
     "output_type": "stream",
     "text": [
      "Accuracy: 0.7679\n"
     ]
    }
   ],
   "source": [
    "from sklearn.linear_model import LogisticRegression\n",
    "\n",
    "model = LogisticRegression()\n",
    "model.fit(X_train, y_train)\n",
    "\n",
    "y_pred = model.predict(X_test)\n",
    "\n",
    "accuracy = accuracy_score(y_test, y_pred)\n",
    "class_report = classification_report(y_test, y_pred)\n",
    "\n",
    "print(f\"Accuracy: {accuracy:.4f}\")"
   ]
  },
  {
   "cell_type": "code",
   "execution_count": 37,
   "metadata": {},
   "outputs": [
    {
     "name": "stdout",
     "output_type": "stream",
     "text": [
      "Optimization terminated successfully.\n",
      "         Current function value: 0.459655\n",
      "         Iterations 7\n",
      "                           Logit Regression Results                           \n",
      "==============================================================================\n",
      "Dep. Variable:          is_sustaining   No. Observations:                  224\n",
      "Model:                          Logit   Df Residuals:                      217\n",
      "Method:                           MLE   Df Model:                            6\n",
      "Date:                Thu, 13 Mar 2025   Pseudo R-squ.:                  0.3140\n",
      "Time:                        23:32:01   Log-Likelihood:                -102.96\n",
      "converged:                       True   LL-Null:                       -150.08\n",
      "Covariance Type:            nonrobust   LLR p-value:                 3.983e-18\n",
      "======================================================================================================\n",
      "                                         coef    std err          z      P>|z|      [0.025      0.975]\n",
      "------------------------------------------------------------------------------------------------------\n",
      "const                                 -4.4300      0.831     -5.332      0.000      -6.059      -2.802\n",
      "total_forks_count                      0.8753      0.241      3.633      0.000       0.403       1.347\n",
      "contributed_back_forks_count           0.5427      0.406      1.337      0.181      -0.253       1.338\n",
      "hard_forks_count                       0.0751      0.087      0.859      0.390      -0.096       0.246\n",
      "merged_commits_count                  -0.3125      0.359     -0.870      0.384      -1.017       0.392\n",
      "not_merged_commits_count              -0.1603      0.129     -1.239      0.215      -0.414       0.093\n",
      "not_contributed_back_commits_count    -0.1549      0.127     -1.221      0.222      -0.404       0.094\n",
      "======================================================================================================\n"
     ]
    }
   ],
   "source": [
    "X_train_const = sm.add_constant(X_train)  \n",
    "\n",
    "model_sm = sm.Logit(y_train, X_train_const).fit()\n",
    "\n",
    "print(model_sm.summary())"
   ]
  },
  {
   "cell_type": "code",
   "execution_count": 11,
   "metadata": {},
   "outputs": [
    {
     "name": "stdout",
     "output_type": "stream",
     "text": [
      "Random Baseline Accuracy: 0.6071\n"
     ]
    }
   ],
   "source": [
    "#Compore it to a random baseline model\n",
    "import numpy as np\n",
    "\n",
    "np.random.seed(42)\n",
    "\n",
    "random_preds = np.random.choice([0, 1], size=56, p=[0.5, 0.5])\n",
    "\n",
    "random_accuracy = accuracy_score(y_test, random_preds)\n",
    "print(f\"Random Baseline Accuracy: {random_accuracy:.4f}\")"
   ]
  },
  {
   "cell_type": "code",
   "execution_count": 15,
   "metadata": {
    "colab": {
     "base_uri": "https://localhost:8080/"
    },
    "executionInfo": {
     "elapsed": 15,
     "status": "ok",
     "timestamp": 1741333145781,
     "user": {
      "displayName": "Simon",
      "userId": "14960693988214049464"
     },
     "user_tz": 480
    },
    "id": "nnfJOAWFZUIi",
    "outputId": "6e39dc55-1e76-4a41-a8cd-3613e75dcb3c"
   },
   "outputs": [
    {
     "name": "stdout",
     "output_type": "stream",
     "text": [
      "SVM Accuracy: 0.7678571428571429\n"
     ]
    }
   ],
   "source": [
    "from sklearn.svm import SVC\n",
    "# Train SVM model\n",
    "\n",
    "svm_model = SVC(kernel='linear')\n",
    "svm_model.fit(X_train, y_train)\n",
    "\n",
    "# Make predictions on the test set\n",
    "y_pred_svm = svm_model.predict(X_test)\n",
    "\n",
    "# Evaluate the model\n",
    "accuracy_SVM = accuracy_score(y_test, y_pred_svm)\n",
    "print(f\"SVM Accuracy: {accuracy_SVM}\")"
   ]
  },
  {
   "cell_type": "code",
   "execution_count": 17,
   "metadata": {},
   "outputs": [
    {
     "name": "stdout",
     "output_type": "stream",
     "text": [
      "SVM Accuracy: 0.7857142857142857\n"
     ]
    }
   ],
   "source": [
    "svm_rbf = SVC(kernel='rbf', gamma='scale')\n",
    "svm_rbf.fit(X_train, y_train)\n",
    "\n",
    "y_pred_rbf = svm_rbf.predict(X_test)\n",
    "\n",
    "accuracy_rbf = accuracy_score(y_test, y_pred_rbf)\n",
    "print(f\"SVM Accuracy: {accuracy_rbf}\")"
   ]
  },
  {
   "cell_type": "code",
   "execution_count": 19,
   "metadata": {
    "colab": {
     "base_uri": "https://localhost:8080/"
    },
    "executionInfo": {
     "elapsed": 270,
     "status": "ok",
     "timestamp": 1741333149485,
     "user": {
      "displayName": "Simon",
      "userId": "14960693988214049464"
     },
     "user_tz": 480
    },
    "id": "4ivl7G8Lbwc0",
    "outputId": "5d272a03-890f-4b80-903c-3162a515cb7d"
   },
   "outputs": [
    {
     "name": "stdout",
     "output_type": "stream",
     "text": [
      "Random Forest Accuracy: 0.7678571428571429\n"
     ]
    }
   ],
   "source": [
    "from sklearn.ensemble import RandomForestClassifier\n",
    "import xgboost as xgb\n",
    "# Train Random Forest model\n",
    "\n",
    "rf_model = RandomForestClassifier(n_estimators=100, random_state=42)\n",
    "rf_model.fit(X_train, y_train)\n",
    "\n",
    "# Make predictions\n",
    "y_pred_rf = rf_model.predict(X_test)\n",
    "\n",
    "# Evaluate the model\n",
    "accuracy_rf = accuracy_score(y_test, y_pred_rf)\n",
    "print(f\"Random Forest Accuracy: {accuracy_rf}\")"
   ]
  },
  {
   "cell_type": "code",
   "execution_count": 21,
   "metadata": {
    "colab": {
     "base_uri": "https://localhost:8080/"
    },
    "executionInfo": {
     "elapsed": 58,
     "status": "ok",
     "timestamp": 1741333153390,
     "user": {
      "displayName": "Simon",
      "userId": "14960693988214049464"
     },
     "user_tz": 480
    },
    "id": "XNarTWrofvwb",
    "outputId": "7d811181-68ab-411e-fab2-e9d77c20f713"
   },
   "outputs": [
    {
     "name": "stdout",
     "output_type": "stream",
     "text": [
      "XGBoost Accuracy: 0.7678571428571429\n"
     ]
    }
   ],
   "source": [
    "# Train XGBoost model\n",
    "\n",
    "xgb_model = xgb.XGBClassifier(objective='binary:logistic', random_state=42)\n",
    "xgb_model.fit(X_train, y_train)\n",
    "\n",
    "# Make predictions\n",
    "y_pred_xgb = xgb_model.predict(X_test)\n",
    "\n",
    "# Evaluate the model\n",
    "accuracy_xgb = accuracy_score(y_test, y_pred_xgb)\n",
    "print(f\"XGBoost Accuracy: {accuracy_xgb}\")"
   ]
  },
  {
   "cell_type": "code",
   "execution_count": null,
   "metadata": {
    "id": "gB-dLQoBgU16"
   },
   "outputs": [],
   "source": []
  }
 ],
 "metadata": {
  "colab": {
   "authorship_tag": "ABX9TyM51w9ZkyEaXNEK2KaI6cxv",
   "provenance": []
  },
  "kernelspec": {
   "display_name": "Python 3 (ipykernel)",
   "language": "python",
   "name": "python3"
  },
  "language_info": {
   "codemirror_mode": {
    "name": "ipython",
    "version": 3
   },
   "file_extension": ".py",
   "mimetype": "text/x-python",
   "name": "python",
   "nbconvert_exporter": "python",
   "pygments_lexer": "ipython3",
   "version": "3.12.4"
  }
 },
 "nbformat": 4,
 "nbformat_minor": 4
}
